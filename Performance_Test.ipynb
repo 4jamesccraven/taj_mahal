{
 "cells": [
  {
   "cell_type": "code",
   "execution_count": 1,
   "id": "27b95eb1-3535-4459-be02-8ee20af65b6b",
   "metadata": {},
   "outputs": [],
   "source": [
    "import taj_mahal\n",
    "\n",
    "import numpy as np\n",
    "from numpy.typing import NDArray\n",
    "from scipy.spatial import distance\n",
    "from scipy.stats import chi2\n",
    "import pandas as pd\n",
    "import matplotlib.pyplot as plt"
   ]
  },
  {
   "cell_type": "code",
   "execution_count": 2,
   "id": "5d36dfb8-e5cb-4920-ba4d-ba74743df6fb",
   "metadata": {},
   "outputs": [
    {
     "name": "stdout",
     "output_type": "stream",
     "text": [
      "Help on built-in function distances in module taj_mahal:\n",
      "\n",
      "distances(...) method of builtins.PyCapsule instance\n",
      "    distances(points: numpy.ndarray[numpy.float64]) -> numpy.ndarray\n",
      "\n",
      "    Calculates Mahalanobis distances for a numerical dataset\n",
      "\n"
     ]
    }
   ],
   "source": [
    "help(taj_mahal.distances)"
   ]
  },
  {
   "cell_type": "code",
   "execution_count": 3,
   "id": "1ae61fa5-d25c-4b0b-a564-f0990abf5b76",
   "metadata": {},
   "outputs": [
    {
     "name": "stdout",
     "output_type": "stream",
     "text": [
      "Help on built-in function outliers in module taj_mahal:\n",
      "\n",
      "outliers(...) method of builtins.PyCapsule instance\n",
      "    outliers(points: numpy.ndarray[numpy.float64], alpha: float = 0.01, indices: bool = False) -> numpy.ndarray\n",
      "\n",
      "    Returns outlier values or indices\n",
      "\n"
     ]
    }
   ],
   "source": [
    "help(taj_mahal.outliers)"
   ]
  },
  {
   "cell_type": "code",
   "execution_count": 4,
   "id": "e5c16507-b31b-48e5-b7ab-1d034cc25784",
   "metadata": {},
   "outputs": [],
   "source": [
    "np.random.seed(42)\n",
    "data = np.random.multivariate_normal([0, 0], [[1, 0.5], [0.5, 2]], size=100)"
   ]
  },
  {
   "cell_type": "code",
   "execution_count": 5,
   "id": "59f98ef2-292e-499b-9608-5b03db20a2f9",
   "metadata": {},
   "outputs": [
    {
     "data": {
      "text/plain": [
       "array([0.7413139 , 1.71284696, 0.29823191, 2.08968948, 0.66639405,\n",
       "       0.63452498, 2.00793687, 1.95448142, 1.09402805, 1.69394263])"
      ]
     },
     "execution_count": 5,
     "metadata": {},
     "output_type": "execute_result"
    }
   ],
   "source": [
    "dist = taj_mahal.distances(data)\n",
    "dist[:10]"
   ]
  },
  {
   "cell_type": "code",
   "execution_count": 6,
   "id": "8c9dffcc-0eb3-43ca-bdd6-70c748392f39",
   "metadata": {},
   "outputs": [
    {
     "data": {
      "text/plain": [
       "array([-0.81324672, -3.87579204])"
      ]
     },
     "execution_count": 6,
     "metadata": {},
     "output_type": "execute_result"
    }
   ],
   "source": [
    "outliers, = taj_mahal.outliers(data)\n",
    "outliers"
   ]
  },
  {
   "cell_type": "code",
   "execution_count": 7,
   "id": "70bd5202-098f-42b8-9e01-2f6d5ad3a1b7",
   "metadata": {},
   "outputs": [
    {
     "data": {
      "image/png": "[encoded data removed]",
      "text/plain": [
       "<Figure size 600x600 with 1 Axes>"
      ]
     },
     "metadata": {},
     "output_type": "display_data"
    }
   ],
   "source": [
    "plt.figure(figsize=(6,6))\n",
    "plt.scatter(data[:, 0], data[:, 1])\n",
    "plt.plot(outliers[0], outliers[1], 'ro')\n",
    "plt.title('Outlier Detection with Taj Mahal')\n",
    "plt.show()"
   ]
  },
  {
   "cell_type": "markdown",
   "id": "5a22036a-2e09-4f59-8d85-13cf759a9314",
   "metadata": {},
   "source": [
    "## Comparison with Scipy"
   ]
  },
  {
   "cell_type": "code",
   "execution_count": 8,
   "id": "d4d36db3-94e2-4cbd-84d7-43409e910995",
   "metadata": {},
   "outputs": [],
   "source": [
    "mu = np.mean(data, axis=0)\n",
    "cov_inv = np.linalg.inv(np.cov(data, rowvar=False))\n",
    "\n",
    "scipy_dist = [distance.mahalanobis(point, mu, cov_inv) for point in data]"
   ]
  },
  {
   "cell_type": "code",
   "execution_count": 9,
   "id": "5bdffc5c-eb70-4dca-9657-b5d6bc013e62",
   "metadata": {},
   "outputs": [
    {
     "data": {
      "text/html": [
       "<div>\n",
       "<style scoped>\n",
       "    .dataframe tbody tr th:only-of-type {\n",
       "        vertical-align: middle;\n",
       "    }\n",
       "\n",
       "    .dataframe tbody tr th {\n",
       "        vertical-align: top;\n",
       "    }\n",
       "\n",
       "    .dataframe thead th {\n",
       "        text-align: right;\n",
       "    }\n",
       "</style>\n",
       "<table border=\"1\" class=\"dataframe\">\n",
       "  <thead>\n",
       "    <tr style=\"text-align: right;\">\n",
       "      <th></th>\n",
       "      <th>taj_mahal</th>\n",
       "      <th>scipy</th>\n",
       "      <th>difference</th>\n",
       "    </tr>\n",
       "  </thead>\n",
       "  <tbody>\n",
       "    <tr>\n",
       "      <th>62</th>\n",
       "      <td>2.285757</td>\n",
       "      <td>2.285757</td>\n",
       "      <td>1.332268e-15</td>\n",
       "    </tr>\n",
       "    <tr>\n",
       "      <th>56</th>\n",
       "      <td>2.435297</td>\n",
       "      <td>2.435297</td>\n",
       "      <td>8.881784e-16</td>\n",
       "    </tr>\n",
       "    <tr>\n",
       "      <th>60</th>\n",
       "      <td>1.442137</td>\n",
       "      <td>1.442137</td>\n",
       "      <td>4.440892e-16</td>\n",
       "    </tr>\n",
       "    <tr>\n",
       "      <th>85</th>\n",
       "      <td>1.221721</td>\n",
       "      <td>1.221721</td>\n",
       "      <td>4.440892e-16</td>\n",
       "    </tr>\n",
       "    <tr>\n",
       "      <th>27</th>\n",
       "      <td>1.588898</td>\n",
       "      <td>1.588898</td>\n",
       "      <td>4.440892e-16</td>\n",
       "    </tr>\n",
       "  </tbody>\n",
       "</table>\n",
       "</div>"
      ],
      "text/plain": [
       "    taj_mahal     scipy    difference\n",
       "62   2.285757  2.285757  1.332268e-15\n",
       "56   2.435297  2.435297  8.881784e-16\n",
       "60   1.442137  1.442137  4.440892e-16\n",
       "85   1.221721  1.221721  4.440892e-16\n",
       "27   1.588898  1.588898  4.440892e-16"
      ]
     },
     "execution_count": 9,
     "metadata": {},
     "output_type": "execute_result"
    }
   ],
   "source": [
    "df = pd.DataFrame({'taj_mahal': dist, 'scipy': scipy_dist})\n",
    "df['difference'] = df['taj_mahal'] - df['scipy']\n",
    "df = df.sort_values('difference', ascending=False)\n",
    "df.head()"
   ]
  },
  {
   "cell_type": "code",
   "execution_count": 10,
   "id": "b91930ae-be33-41a5-9d6d-718c787b5f9c",
   "metadata": {},
   "outputs": [
    {
     "name": "stdout",
     "output_type": "stream",
     "text": [
      "The data has a RMSE of 2.686418561506723e-16\n"
     ]
    }
   ],
   "source": [
    "e = df['difference'].to_numpy()\n",
    "print(f'The data has a RMSE of {np.sqrt(sum(e * e) / len(e))}')"
   ]
  },
  {
   "cell_type": "code",
   "execution_count": 11,
   "id": "c3eb37d3-2b33-498d-92a4-0399114bdee0",
   "metadata": {},
   "outputs": [
    {
     "data": {
      "image/png": "[encoded data removed]",
      "text/plain": [
       "<Figure size 600x600 with 1 Axes>"
      ]
     },
     "metadata": {},
     "output_type": "display_data"
    }
   ],
   "source": [
    "plt.figure(figsize=(6, 6))\n",
    "\n",
    "plt.scatter(df['taj_mahal'], df['scipy'])\n",
    "plt.title('Values Comparison')\n",
    "plt.xlabel('Taj Mahal Values')\n",
    "plt.ylabel('Scipy Values')\n",
    "\n",
    "plt.show()"
   ]
  },
  {
   "cell_type": "markdown",
   "id": "0ef526b1-0b74-4b3b-9151-47d940c6d025",
   "metadata": {},
   "source": [
    "### Performance"
   ]
  },
  {
   "cell_type": "code",
   "execution_count": 12,
   "id": "7c86bedd-5d73-4294-99e5-37cef0a89c41",
   "metadata": {},
   "outputs": [
    {
     "name": "stdout",
     "output_type": "stream",
     "text": [
      "470 μs ± 7.54 μs per loop (mean ± std. dev. of 7 runs, 1,000 loops each)\n"
     ]
    }
   ],
   "source": [
    "%%timeit\n",
    "[distance.mahalanobis(point, mu, cov_inv) for point in data]"
   ]
  },
  {
   "cell_type": "code",
   "execution_count": 13,
   "id": "bb215f90-fae0-478c-9485-2ddfbaf1de78",
   "metadata": {},
   "outputs": [
    {
     "name": "stdout",
     "output_type": "stream",
     "text": [
      "11 μs ± 77.8 ns per loop (mean ± std. dev. of 7 runs, 100,000 loops each)\n"
     ]
    }
   ],
   "source": [
    "%%timeit\n",
    "taj_mahal.distances(data)"
   ]
  },
  {
   "cell_type": "code",
   "execution_count": 14,
   "id": "d379bf32-d966-4921-b219-dc3d7520f606",
   "metadata": {},
   "outputs": [],
   "source": [
    "def scipy_outliers(data: NDArray, alpha=0.01):\n",
    "    threshold = np.sqrt(chi2.ppf(1 - alpha, data.shape[1]))\n",
    "    \n",
    "    mu = np.mean(data, axis=0)\n",
    "    cov_inv = np.linalg.inv(np.cov(data, rowvar=False))\n",
    "    \n",
    "    distances = np.array([distance.mahalanobis(point, mu, cov_inv) for point in data])\n",
    "    \n",
    "    return data[np.where(distances > threshold)]"
   ]
  },
  {
   "cell_type": "code",
   "execution_count": 15,
   "id": "4e9199da-dc59-42f8-92d6-43f28e6e3537",
   "metadata": {},
   "outputs": [
    {
     "name": "stdout",
     "output_type": "stream",
     "text": [
      "666 μs ± 5.55 μs per loop (mean ± std. dev. of 7 runs, 1,000 loops each)\n"
     ]
    }
   ],
   "source": [
    "%%timeit\n",
    "_ = scipy_outliers(data)"
   ]
  },
  {
   "cell_type": "code",
   "execution_count": 16,
   "id": "39d03cb4-5470-4ff7-8828-50d5a1fc51a4",
   "metadata": {},
   "outputs": [
    {
     "name": "stdout",
     "output_type": "stream",
     "text": [
      "12.7 μs ± 261 ns per loop (mean ± std. dev. of 7 runs, 100,000 loops each)\n"
     ]
    }
   ],
   "source": [
    "%%timeit\n",
    "_ = taj_mahal.outliers(data)"
   ]
  }
 ],
 "metadata": {
  "kernelspec": {
   "display_name": "Taj Mahal Testing",
   "language": "python",
   "name": "pkg"
  },
  "language_info": {
   "codemirror_mode": {
    "name": "ipython",
    "version": 3
   },
   "file_extension": ".py",
   "mimetype": "text/x-python",
   "name": "python",
   "nbconvert_exporter": "python",
   "pygments_lexer": "ipython3",
   "version": "3.12.7"
  }
 },
 "nbformat": 4,
 "nbformat_minor": 5
}
